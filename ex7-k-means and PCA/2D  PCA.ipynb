{
 "cells": [
  {
   "cell_type": "markdown",
   "metadata": {},
   "source": [
    "# 4-二维的PCA"
   ]
  },
  {
   "cell_type": "code",
   "execution_count": 1,
   "metadata": {},
   "outputs": [],
   "source": [
    "import matplotlib.pyplot as plt\n",
    "import seaborn as sns\n",
    "sns.set(context=\"notebook\", style=\"white\")\n",
    "\n",
    "import numpy as np\n",
    "import pandas as pd\n",
    "import scipy.io as sio"
   ]
  },
  {
   "cell_type": "markdown",
   "metadata": {},
   "source": [
    "# load data"
   ]
  },
  {
   "cell_type": "code",
   "execution_count": 2,
   "metadata": {},
   "outputs": [
    {
     "data": {
      "text/plain": [
       "{'__header__': b'MATLAB 5.0 MAT-file, Platform: PCWIN64, Created on: Mon Nov 14 22:41:44 2011',\n",
       " '__version__': '1.0',\n",
       " '__globals__': [],\n",
       " 'X': array([[3.38156267, 3.38911268],\n",
       "        [4.52787538, 5.8541781 ],\n",
       "        [2.65568187, 4.41199472],\n",
       "        [2.76523467, 3.71541365],\n",
       "        [2.84656011, 4.17550645],\n",
       "        [3.89067196, 6.48838087],\n",
       "        [3.47580524, 3.63284876],\n",
       "        [5.91129845, 6.68076853],\n",
       "        [3.92889397, 5.09844661],\n",
       "        [4.56183537, 5.62329929],\n",
       "        [4.57407171, 5.39765069],\n",
       "        [4.37173356, 5.46116549],\n",
       "        [4.19169388, 4.95469359],\n",
       "        [5.24408518, 4.66148767],\n",
       "        [2.8358402 , 3.76801716],\n",
       "        [5.63526969, 6.31211438],\n",
       "        [4.68632968, 5.6652411 ],\n",
       "        [2.85051337, 4.62645627],\n",
       "        [5.1101573 , 7.36319662],\n",
       "        [5.18256377, 4.64650909],\n",
       "        [5.70732809, 6.68103995],\n",
       "        [3.57968458, 4.80278074],\n",
       "        [5.63937773, 6.12043594],\n",
       "        [4.26346851, 4.68942896],\n",
       "        [2.53651693, 3.88449078],\n",
       "        [3.22382902, 4.94255585],\n",
       "        [4.92948801, 5.95501971],\n",
       "        [5.79295774, 5.10839305],\n",
       "        [2.81684824, 4.81895769],\n",
       "        [3.88882414, 5.10036564],\n",
       "        [3.34323419, 5.89301345],\n",
       "        [5.87973414, 5.52141664],\n",
       "        [3.10391912, 3.85710242],\n",
       "        [5.33150572, 4.68074235],\n",
       "        [3.37542687, 4.56537852],\n",
       "        [4.77667888, 6.25435039],\n",
       "        [2.6757463 , 3.73096988],\n",
       "        [5.50027665, 5.67948113],\n",
       "        [1.79709714, 3.24753885],\n",
       "        [4.3225147 , 5.11110472],\n",
       "        [4.42100445, 6.02563978],\n",
       "        [3.17929886, 4.43686032],\n",
       "        [3.03354125, 3.97879278],\n",
       "        [4.6093482 , 5.879792  ],\n",
       "        [2.96378859, 3.30024835],\n",
       "        [3.97176248, 5.40773735],\n",
       "        [1.18023321, 2.87869409],\n",
       "        [1.91895045, 5.07107848],\n",
       "        [3.95524687, 4.5053271 ],\n",
       "        [5.11795499, 6.08507386]])}"
      ]
     },
     "execution_count": 2,
     "metadata": {},
     "output_type": "execute_result"
    }
   ],
   "source": [
    "data = sio.loadmat('data/ex7data1.mat')\n",
    "data"
   ]
  },
  {
   "cell_type": "code",
   "execution_count": 3,
   "metadata": {},
   "outputs": [
    {
     "data": {
      "image/png": "[encoded data removed]",
      "text/plain": [
       "<Figure size 864x576 with 1 Axes>"
      ]
     },
     "metadata": {},
     "output_type": "display_data"
    }
   ],
   "source": [
    "X = data['X']\n",
    "\n",
    "fig, ax = plt.subplots(figsize=(12,8))\n",
    "ax.scatter(X[:,0], X[:,1])\n",
    "plt.show()"
   ]
  },
  {
   "cell_type": "code",
   "execution_count": 4,
   "metadata": {},
   "outputs": [
    {
     "data": {
      "text/plain": [
       "4.496035565920988"
      ]
     },
     "execution_count": 4,
     "metadata": {},
     "output_type": "execute_result"
    }
   ],
   "source": [
    "X.mean()"
   ]
  },
  {
   "cell_type": "code",
   "execution_count": 5,
   "metadata": {},
   "outputs": [
    {
     "data": {
      "text/plain": [
       "(array([[-0.16062799,  0.20796227, -0.14652229, ..., -0.19268034,\n",
       "         -0.02076673,  0.14456323],\n",
       "        [ 0.09899537, -0.07321697, -0.0837686 , ..., -0.3352168 ,\n",
       "          0.09829793, -0.05031898],\n",
       "        [-0.13143756, -0.10991088,  0.96994811, ..., -0.05868388,\n",
       "          0.0051223 ,  0.01832722],\n",
       "        ...,\n",
       "        [-0.13021369, -0.35977595, -0.0639443 , ...,  0.844189  ,\n",
       "          0.02604669,  0.02071472],\n",
       "        [-0.03949686,  0.08978639,  0.00769737, ...,  0.03017854,\n",
       "          0.99127302,  0.00425505],\n",
       "        [ 0.15486642, -0.01872531,  0.01521929, ...,  0.01143763,\n",
       "          0.0063552 ,  0.97991733]]),\n",
       " array([9.3153915 , 3.63641048]),\n",
       " array([[ 0.70710678,  0.70710678],\n",
       "        [ 0.70710678, -0.70710678]]))"
      ]
     },
     "execution_count": 5,
     "metadata": {},
     "output_type": "execute_result"
    }
   ],
   "source": [
    "Xcopy = X.copy()\n",
    "for col in range(Xcopy.shape[1]):\n",
    "        Xcopy[:, col] = (Xcopy[:, col] - Xcopy[:, col].mean()) / Xcopy[:, col].std()\n",
    "\n",
    "U, S, V = np.linalg.svd(Xcopy)\n",
    "U,S,V"
   ]
  },
  {
   "cell_type": "code",
   "execution_count": 6,
   "metadata": {},
   "outputs": [],
   "source": [
    "def pca(X):\n",
    "    #normalize the features\n",
    "    for col in range(X.shape[1]):\n",
    "        X[:, col] = (X[:, col] - X[:, col].mean()) / X[:, col].std()\n",
    "\n",
    "    #compute the covariance matrix\n",
    "    X = np.matrix(X)\n",
    "    cov = (X.T @ X) / X.shape[0]\n",
    "\n",
    "    # perform SVD\n",
    "    U, S, V = np.linalg.svd(cov)\n",
    "\n",
    "    return U, S, V\n"
   ]
  },
  {
   "cell_type": "markdown",
   "metadata": {},
   "source": [
    "特征向量不唯一"
   ]
  },
  {
   "cell_type": "code",
   "execution_count": 7,
   "metadata": {},
   "outputs": [
    {
     "data": {
      "text/plain": [
       "(matrix([[-0.70710678, -0.70710678],\n",
       "         [-0.70710678,  0.70710678]]),\n",
       " array([1.73553038, 0.26446962]),\n",
       " matrix([[-0.70710678, -0.70710678],\n",
       "         [-0.70710678,  0.70710678]]))"
      ]
     },
     "execution_count": 7,
     "metadata": {},
     "output_type": "execute_result"
    }
   ],
   "source": [
    "U, S, V = pca(X)\n",
    "U, S, V"
   ]
  },
  {
   "cell_type": "code",
   "execution_count": 19,
   "metadata": {},
   "outputs": [
    {
     "data": {
      "text/plain": [
       "matrix([[0.5, 0.5],\n",
       "        [0.5, 0.5]])"
      ]
     },
     "execution_count": 19,
     "metadata": {},
     "output_type": "execute_result"
    }
   ],
   "source": [
    "U[:,:1] @ U[:,:1].T"
   ]
  },
  {
   "cell_type": "code",
   "execution_count": null,
   "metadata": {},
   "outputs": [],
   "source": []
  },
  {
   "cell_type": "markdown",
   "metadata": {},
   "source": [
    "借助左奇异矩阵U， 可以将原始数据投影到一个较低维的空间中。"
   ]
  },
  {
   "cell_type": "code",
   "execution_count": 8,
   "metadata": {},
   "outputs": [],
   "source": [
    "def project_data(X, U, k):\n",
    "     U_reduced = U[:,:k]  \n",
    "     return np.dot(X, U_reduced)"
   ]
  },
  {
   "cell_type": "code",
   "execution_count": 10,
   "metadata": {},
   "outputs": [
    {
     "data": {
      "text/plain": [
       "matrix([[ 1.49631261],\n",
       "        [-0.92218067],\n",
       "        [ 1.22439232],\n",
       "        [ 1.64386173],\n",
       "        [ 1.2732206 ],\n",
       "        [-0.97681976],\n",
       "        [ 1.26881187],\n",
       "        [-2.34148278],\n",
       "        [-0.02999141],\n",
       "        [-0.78171789],\n",
       "        [-0.6316777 ],\n",
       "        [-0.55280135],\n",
       "        [-0.0896816 ],\n",
       "        [-0.5258541 ],\n",
       "        [ 1.56415455],\n",
       "        [-1.91610366],\n",
       "        [-0.88679735],\n",
       "        [ 0.95607375],\n",
       "        [-2.32995679],\n",
       "        [-0.47793862],\n",
       "        [-2.21747195],\n",
       "        [ 0.38900633],\n",
       "        [-1.78482346],\n",
       "        [ 0.05175486],\n",
       "        [ 1.66512392],\n",
       "        [ 0.50813572],\n",
       "        [-1.23711018],\n",
       "        [-1.17198677],\n",
       "        [ 0.84221686],\n",
       "        [-0.00693174],\n",
       "        [-0.22794195],\n",
       "        [-1.51309518],\n",
       "        [ 1.33874082],\n",
       "        [-0.5925244 ],\n",
       "        [ 0.67907605],\n",
       "        [-1.35298   ],\n",
       "        [ 1.68749495],\n",
       "        [-1.39235931],\n",
       "        [ 2.55992598],\n",
       "        [-0.27850702],\n",
       "        [-0.97677692],\n",
       "        [ 0.88820006],\n",
       "        [ 1.29666127],\n",
       "        [-0.98966774],\n",
       "        [ 1.81272352],\n",
       "        [-0.27196356],\n",
       "        [ 3.19297722],\n",
       "        [ 1.21299151],\n",
       "        [ 0.36792871],\n",
       "        [-1.44264131]])"
      ]
     },
     "execution_count": 10,
     "metadata": {},
     "output_type": "execute_result"
    }
   ],
   "source": [
    "Z = project_data(X, U, 1)\n",
    "Z"
   ]
  },
  {
   "cell_type": "markdown",
   "metadata": {},
   "source": [
    "反向转换步骤来恢复原始数据"
   ]
  },
  {
   "cell_type": "code",
   "execution_count": 11,
   "metadata": {},
   "outputs": [],
   "source": [
    "def recover_data(Z, U, k):\n",
    "    U_reduced = U[:, :k]\n",
    "    return np.dot(Z, U_reduced.T)\n"
   ]
  },
  {
   "cell_type": "code",
   "execution_count": 12,
   "metadata": {},
   "outputs": [
    {
     "data": {
      "text/plain": [
       "matrix([[-1.05805279, -1.05805279],\n",
       "        [ 0.65208021,  0.65208021],\n",
       "        [-0.86577611, -0.86577611],\n",
       "        [-1.16238578, -1.16238578],\n",
       "        [-0.90030292, -0.90030292],\n",
       "        [ 0.69071588,  0.69071588],\n",
       "        [-0.89718548, -0.89718548],\n",
       "        [ 1.65567835,  1.65567835],\n",
       "        [ 0.02120713,  0.02120713],\n",
       "        [ 0.55275802,  0.55275802],\n",
       "        [ 0.44666359,  0.44666359],\n",
       "        [ 0.39088959,  0.39088959],\n",
       "        [ 0.06341447,  0.06341447],\n",
       "        [ 0.371835  ,  0.371835  ],\n",
       "        [-1.10602429, -1.10602429],\n",
       "        [ 1.35488989,  1.35488989],\n",
       "        [ 0.62706042,  0.62706042],\n",
       "        [-0.67604623, -0.67604623],\n",
       "        [ 1.64752825,  1.64752825],\n",
       "        [ 0.33795364,  0.33795364],\n",
       "        [ 1.56798945,  1.56798945],\n",
       "        [-0.27506901, -0.27506901],\n",
       "        [ 1.26206077,  1.26206077],\n",
       "        [-0.03659622, -0.03659622],\n",
       "        [-1.17742041, -1.17742041],\n",
       "        [-0.35930621, -0.35930621],\n",
       "        [ 0.874769  ,  0.874769  ],\n",
       "        [ 0.82871979,  0.82871979],\n",
       "        [-0.59553725, -0.59553725],\n",
       "        [ 0.00490148,  0.00490148],\n",
       "        [ 0.1611793 ,  0.1611793 ],\n",
       "        [ 1.06991986,  1.06991986],\n",
       "        [-0.94663271, -0.94663271],\n",
       "        [ 0.41897802,  0.41897802],\n",
       "        [-0.48017928, -0.48017928],\n",
       "        [ 0.95670134,  0.95670134],\n",
       "        [-1.19323912, -1.19323912],\n",
       "        [ 0.98454671,  0.98454671],\n",
       "        [-1.81014102, -1.81014102],\n",
       "        [ 0.1969342 ,  0.1969342 ],\n",
       "        [ 0.69068559,  0.69068559],\n",
       "        [-0.62805228, -0.62805228],\n",
       "        [-0.91687797, -0.91687797],\n",
       "        [ 0.69980077,  0.69980077],\n",
       "        [-1.28178909, -1.28178909],\n",
       "        [ 0.19230728,  0.19230728],\n",
       "        [-2.25777584, -2.25777584],\n",
       "        [-0.85771452, -0.85771452],\n",
       "        [-0.26016489, -0.26016489],\n",
       "        [ 1.02010145,  1.02010145]])"
      ]
     },
     "execution_count": 12,
     "metadata": {},
     "output_type": "execute_result"
    }
   ],
   "source": [
    "X_recovered = recover_data(Z, U, 1)\n",
    "X_recovered"
   ]
  },
  {
   "cell_type": "code",
   "execution_count": 15,
   "metadata": {},
   "outputs": [
    {
     "data": {
      "image/png": "[encoded data removed]",
      "text/plain": [
       "<Figure size 864x576 with 1 Axes>"
      ]
     },
     "metadata": {},
     "output_type": "display_data"
    }
   ],
   "source": [
    "fig, ax = plt.subplots(figsize=(12,8))\n",
    "ax.scatter(list(X_recovered[:, 0]), list(X_recovered[:, 1]))\n",
    "plt.show()"
   ]
  },
  {
   "cell_type": "markdown",
   "metadata": {},
   "source": [
    "第一主成分的投影轴基本上是数据集中的对角线。当我们将数据减少到一个维度时，我们失去了该对角线周围的变化，所以在再现中，一切都沿着该对角线。"
   ]
  }
 ],
 "metadata": {
  "interpreter": {
   "hash": "1f00c3469eb44664c88da275660a90e0c004c27ab2f4a08594caa9fd5d36651a"
  },
  "kernelspec": {
   "display_name": "Python 3.9.7 ('base')",
   "language": "python",
   "name": "python3"
  },
  "language_info": {
   "codemirror_mode": {
    "name": "ipython",
    "version": 3
   },
   "file_extension": ".py",
   "mimetype": "text/x-python",
   "name": "python",
   "nbconvert_exporter": "python",
   "pygments_lexer": "ipython3",
   "version": "3.9.7"
  },
  "orig_nbformat": 4
 },
 "nbformat": 4,
 "nbformat_minor": 2
}

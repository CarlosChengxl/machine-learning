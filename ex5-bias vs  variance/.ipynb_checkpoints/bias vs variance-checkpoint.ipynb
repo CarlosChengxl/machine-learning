{
 "cells": [
  {
   "cell_type": "markdown",
   "metadata": {},
   "source": [
    "# 机器学习练习 5 - 偏差和方差"
   ]
  },
  {
   "cell_type": "code",
   "execution_count": 1,
   "metadata": {},
   "outputs": [],
   "source": [
    "import numpy as np\n",
    "import scipy.io as sio\n",
    "import scipy.optimize as opt\n",
    "import pandas as pd\n",
    "import matplotlib.pyplot as plt\n",
    "import seaborn as sns"
   ]
  },
  {
   "cell_type": "code",
   "execution_count": 2,
   "metadata": {},
   "outputs": [],
   "source": [
    "def load_data():\n",
    "    \"\"\"for ex5\n",
    "    d['X'] shape = (12, 1)\n",
    "    pandas has trouble taking this 2d ndarray to construct a dataframe, so I ravel\n",
    "    the results\n",
    "    \"\"\"\n",
    "    d = sio.loadmat('ex5data1.mat')\n",
    "    return map(np.ravel, [d['X'], d['y'], d['Xval'], d['yval'], d['Xtest'], d['ytest']])"
   ]
  },
  {
   "cell_type": "code",
   "execution_count": 3,
   "metadata": {},
   "outputs": [
    {
     "data": {
      "text/plain": [
       "(array([-15.93675813, -29.15297922,  36.18954863,  37.49218733,\n",
       "        -48.05882945,  -8.94145794,  15.30779289, -34.70626581,\n",
       "          1.38915437, -44.38375985,   7.01350208,  22.76274892]),\n",
       " array([ 2.13431051,  1.17325668, 34.35910918, 36.83795516,  2.80896507,\n",
       "         2.12107248, 14.71026831,  2.61418439,  3.74017167,  3.73169131,\n",
       "         7.62765885, 22.7524283 ]),\n",
       " array([-16.74653578, -14.57747075,  34.51575866, -47.01007574,\n",
       "         36.97511905, -40.68611002,  -4.47201098,  26.53363489,\n",
       "        -42.7976831 ,  25.37409938, -31.10955398,  27.31176864,\n",
       "         -3.26386201,  -1.81827649, -40.7196624 , -50.01324365,\n",
       "        -17.41177155,   3.5881937 ,   7.08548026,  46.28236902,\n",
       "         14.61228909]),\n",
       " array([ 4.17020201e+00,  4.06726280e+00,  3.18730676e+01,  1.06236562e+01,\n",
       "         3.18360213e+01,  4.95936972e+00,  4.45159880e+00,  2.22763185e+01,\n",
       "        -4.38738274e-05,  2.05038016e+01,  3.85834476e+00,  1.93650529e+01,\n",
       "         4.88376281e+00,  1.10971588e+01,  7.46170827e+00,  1.47693464e+00,\n",
       "         2.71916388e+00,  1.09269007e+01,  8.34871235e+00,  5.27819280e+01,\n",
       "         1.33573396e+01]),\n",
       " array([-33.31800399, -37.91216403, -51.20693795,  -6.13259585,\n",
       "         21.26118327, -40.31952949, -14.54153167,  32.55976024,\n",
       "         13.39343255,  44.20988595,  -1.14267768, -12.76686065,\n",
       "         34.05450539,  39.22350028,   1.97449674,  29.6217551 ,\n",
       "        -23.66962971,  -9.01180139, -55.94057091, -35.70859752,\n",
       "          9.51020533]),\n",
       " array([ 3.31688953,  5.39768952,  0.13042984,  6.1925982 , 17.08848712,\n",
       "         0.79950805,  2.82479183, 28.62123334, 17.04639081, 55.38437334,\n",
       "         4.07936733,  8.27039793, 31.32355102, 39.15906103,  8.08727989,\n",
       "        24.11134389,  2.4773548 ,  6.56606472,  6.0380888 ,  4.69273956,\n",
       "        10.83004606]))"
      ]
     },
     "execution_count": 3,
     "metadata": {},
     "output_type": "execute_result"
    }
   ],
   "source": [
    "X, y, Xval, yval, Xtest, ytest = load_data()\n",
    "X, y, Xval, yval, Xtest, ytest"
   ]
  },
  {
   "cell_type": "code",
   "execution_count": 4,
   "metadata": {},
   "outputs": [
    {
     "name": "stderr",
     "output_type": "stream",
     "text": [
      "d:\\programming tools\\python\\python36\\lib\\site-packages\\seaborn\\_decorators.py:43: FutureWarning: Pass the following variables as keyword args: x, y. From version 0.12, the only valid positional argument will be `data`, and passing other arguments without an explicit keyword will result in an error or misinterpretation.\n",
      "  FutureWarning\n"
     ]
    },
    {
     "data": {
      "image/png": "[encoded data removed]",
      "text/plain": [
       "<Figure size 504x504 with 1 Axes>"
      ]
     },
     "metadata": {
      "needs_background": "light"
     },
     "output_type": "display_data"
    }
   ],
   "source": [
    "df = pd.DataFrame({'water_level':X, 'flow':y})\n",
    "\n",
    "sns.lmplot('water_level', 'flow', data=df, fit_reg=False, height=7)\n",
    "plt.show()"
   ]
  },
  {
   "cell_type": "code",
   "execution_count": 5,
   "metadata": {},
   "outputs": [],
   "source": [
    "X, Xval, Xtest = [np.insert(x.reshape(x.shape[0], 1), 0, np.ones(x.shape[0]), axis=1) for x in (X, Xval, Xtest)]"
   ]
  },
  {
   "cell_type": "markdown",
   "metadata": {},
   "source": [
    "# 代价函数\n",
    "<img style=\"float: left;\" src=\"linear_cost.png\">"
   ]
  },
  {
   "cell_type": "code",
   "execution_count": 6,
   "metadata": {},
   "outputs": [],
   "source": [
    "def cost(theta, X, y):\n",
    "    \"\"\"\n",
    "    X: R(m*n), m records, n features\n",
    "    y: R(m)\n",
    "    theta : R(n), linear regression parameters\n",
    "    \"\"\"\n",
    "    m = X.shape[0]\n",
    "\n",
    "    inner = X @ theta - y  # R(m*1)\n",
    "\n",
    "    # 1*m @ m*1 = 1*1 in matrix multiplication\n",
    "    # but you know numpy didn't do transpose in 1d array, so here is just a\n",
    "    # vector inner product to itselves\n",
    "    square_sum = inner.T @ inner\n",
    "    cost = square_sum / (2 * m)\n",
    "\n",
    "    return cost"
   ]
  },
  {
   "cell_type": "code",
   "execution_count": 7,
   "metadata": {},
   "outputs": [
    {
     "data": {
      "text/plain": [
       "303.95152555359766"
      ]
     },
     "execution_count": 7,
     "metadata": {},
     "output_type": "execute_result"
    }
   ],
   "source": [
    "theta = np.ones(X.shape[1])\n",
    "cost(theta, X, y)"
   ]
  },
  {
   "cell_type": "markdown",
   "metadata": {},
   "source": [
    "# 梯度\n",
    "<img style=\"float: left;\" src=\"linear_gradient.png\">"
   ]
  },
  {
   "cell_type": "code",
   "execution_count": 13,
   "metadata": {},
   "outputs": [],
   "source": [
    "def gradient(theta, X, y):\n",
    "    m = X.shape[0]\n",
    "    \n",
    "    #J(θ)求导得 X *（h-y) 其中h=X @ theta\n",
    "    inner = X.T @ (X @ theta - y)  # (m,n).T @ (m, 1) -> (n, 1)\n",
    "\n",
    "    return inner / m"
   ]
  },
  {
   "cell_type": "code",
   "execution_count": 10,
   "metadata": {},
   "outputs": [
    {
     "data": {
      "text/plain": [
       "array([-15.30301567, 598.16741084])"
      ]
     },
     "execution_count": 10,
     "metadata": {},
     "output_type": "execute_result"
    }
   ],
   "source": [
    "gradient(theta, X, y)"
   ]
  },
  {
   "cell_type": "markdown",
   "metadata": {},
   "source": [
    "# 正则化梯度\n",
    "<img style=\"float: left;\" src=\"linear_reg_gradient.png\">"
   ]
  },
  {
   "cell_type": "code",
   "execution_count": 11,
   "metadata": {},
   "outputs": [],
   "source": [
    "def regularized_gradient(theta, X, y, l=1):\n",
    "    m = X.shape[0]\n",
    "\n",
    "    regularized_term = theta.copy()  # same shape as theta\n",
    "    regularized_term[0] = 0  # don't regularize intercept theta\n",
    "\n",
    "    regularized_term = (l / m) * regularized_term\n",
    "\n",
    "    return gradient(theta, X, y) + regularized_term"
   ]
  },
  {
   "cell_type": "code",
   "execution_count": 12,
   "metadata": {},
   "outputs": [
    {
     "data": {
      "text/plain": [
       "array([-15.30301567, 598.25074417])"
      ]
     },
     "execution_count": 12,
     "metadata": {},
     "output_type": "execute_result"
    }
   ],
   "source": [
    "regularized_gradient(theta, X, y)"
   ]
  }
 ],
 "metadata": {
  "interpreter": {
   "hash": "657a11fafbe6093823e7273cc9369b7116467512fa5d0d5f7846366745e87bef"
  },
  "kernelspec": {
   "display_name": "Python 3",
   "language": "python",
   "name": "python3"
  },
  "language_info": {
   "codemirror_mode": {
    "name": "ipython",
    "version": 3
   },
   "file_extension": ".py",
   "mimetype": "text/x-python",
   "name": "python",
   "nbconvert_exporter": "python",
   "pygments_lexer": "ipython3",
   "version": "3.6.2"
  }
 },
 "nbformat": 4,
 "nbformat_minor": 2
}

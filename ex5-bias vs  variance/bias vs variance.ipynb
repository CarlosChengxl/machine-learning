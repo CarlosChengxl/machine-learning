{
 "cells": [
  {
   "cell_type": "markdown",
   "metadata": {},
   "source": [
    "# 机器学习练习 5 - 偏差和方差"
   ]
  },
  {
   "cell_type": "code",
   "execution_count": 1,
   "metadata": {},
   "outputs": [],
   "source": [
    "import numpy as np\n",
    "import scipy.io as sio\n",
    "import scipy.optimize as opt\n",
    "import pandas as pd\n",
    "import matplotlib.pyplot as plt\n",
    "import seaborn as sns"
   ]
  },
  {
   "cell_type": "code",
   "execution_count": 2,
   "metadata": {},
   "outputs": [],
   "source": [
    "def load_data():\n",
    "    \"\"\"for ex5\n",
    "    d['X'] shape = (12, 1)\n",
    "    pandas has trouble taking this 2d ndarray to construct a dataframe, so I ravel\n",
    "    the results\n",
    "    \"\"\"\n",
    "    d = sio.loadmat('ex5data1.mat')\n",
    "    return map(np.ravel, [d['X'], d['y'], d['Xval'], d['yval'], d['Xtest'], d['ytest']])"
   ]
  },
  {
   "cell_type": "code",
   "execution_count": 3,
   "metadata": {},
   "outputs": [
    {
     "data": {
      "text/plain": [
       "(array([-15.93675813, -29.15297922,  36.18954863,  37.49218733,\n",
       "        -48.05882945,  -8.94145794,  15.30779289, -34.70626581,\n",
       "          1.38915437, -44.38375985,   7.01350208,  22.76274892]),\n",
       " array([ 2.13431051,  1.17325668, 34.35910918, 36.83795516,  2.80896507,\n",
       "         2.12107248, 14.71026831,  2.61418439,  3.74017167,  3.73169131,\n",
       "         7.62765885, 22.7524283 ]),\n",
       " array([-16.74653578, -14.57747075,  34.51575866, -47.01007574,\n",
       "         36.97511905, -40.68611002,  -4.47201098,  26.53363489,\n",
       "        -42.7976831 ,  25.37409938, -31.10955398,  27.31176864,\n",
       "         -3.26386201,  -1.81827649, -40.7196624 , -50.01324365,\n",
       "        -17.41177155,   3.5881937 ,   7.08548026,  46.28236902,\n",
       "         14.61228909]),\n",
       " array([ 4.17020201e+00,  4.06726280e+00,  3.18730676e+01,  1.06236562e+01,\n",
       "         3.18360213e+01,  4.95936972e+00,  4.45159880e+00,  2.22763185e+01,\n",
       "        -4.38738274e-05,  2.05038016e+01,  3.85834476e+00,  1.93650529e+01,\n",
       "         4.88376281e+00,  1.10971588e+01,  7.46170827e+00,  1.47693464e+00,\n",
       "         2.71916388e+00,  1.09269007e+01,  8.34871235e+00,  5.27819280e+01,\n",
       "         1.33573396e+01]),\n",
       " array([-33.31800399, -37.91216403, -51.20693795,  -6.13259585,\n",
       "         21.26118327, -40.31952949, -14.54153167,  32.55976024,\n",
       "         13.39343255,  44.20988595,  -1.14267768, -12.76686065,\n",
       "         34.05450539,  39.22350028,   1.97449674,  29.6217551 ,\n",
       "        -23.66962971,  -9.01180139, -55.94057091, -35.70859752,\n",
       "          9.51020533]),\n",
       " array([ 3.31688953,  5.39768952,  0.13042984,  6.1925982 , 17.08848712,\n",
       "         0.79950805,  2.82479183, 28.62123334, 17.04639081, 55.38437334,\n",
       "         4.07936733,  8.27039793, 31.32355102, 39.15906103,  8.08727989,\n",
       "        24.11134389,  2.4773548 ,  6.56606472,  6.0380888 ,  4.69273956,\n",
       "        10.83004606]))"
      ]
     },
     "execution_count": 3,
     "metadata": {},
     "output_type": "execute_result"
    }
   ],
   "source": [
    "X, y, Xval, yval, Xtest, ytest = load_data()\n",
    "X, y, Xval, yval, Xtest, ytest"
   ]
  },
  {
   "cell_type": "code",
   "execution_count": 4,
   "metadata": {},
   "outputs": [
    {
     "name": "stderr",
     "output_type": "stream",
     "text": [
      "D:\\Programmingtools\\anaconda3\\lib\\site-packages\\seaborn\\_decorators.py:36: FutureWarning: Pass the following variables as keyword args: x, y. From version 0.12, the only valid positional argument will be `data`, and passing other arguments without an explicit keyword will result in an error or misinterpretation.\n",
      "  warnings.warn(\n"
     ]
    },
    {
     "data": {
      "image/png": "[encoded data removed]",
      "text/plain": [
       "<Figure size 504x504 with 1 Axes>"
      ]
     },
     "metadata": {
      "needs_background": "light"
     },
     "output_type": "display_data"
    }
   ],
   "source": [
    "df = pd.DataFrame({'water_level':X, 'flow':y})\n",
    "\n",
    "sns.lmplot('water_level', 'flow', data=df, fit_reg=False, height=7)\n",
    "plt.show()"
   ]
  },
  {
   "cell_type": "code",
   "execution_count": 5,
   "metadata": {},
   "outputs": [],
   "source": [
    "X, Xval, Xtest = [np.insert(x.reshape(x.shape[0], 1), 0, np.ones(x.shape[0]), axis=1) for x in (X, Xval, Xtest)]"
   ]
  },
  {
   "cell_type": "markdown",
   "metadata": {},
   "source": [
    "# 代价函数\n",
    "<img style=\"float: left;\" src=\"linear_cost.png\">"
   ]
  },
  {
   "cell_type": "code",
   "execution_count": 6,
   "metadata": {},
   "outputs": [],
   "source": [
    "def cost(theta, X, y):\n",
    "    \"\"\"\n",
    "    X: R(m*n), m records, n features\n",
    "    y: R(m)\n",
    "    theta : R(n), linear regression parameters\n",
    "    \"\"\"\n",
    "    m = X.shape[0]\n",
    "\n",
    "    inner = X @ theta - y  # R(m*1)\n",
    "\n",
    "    # 1*m @ m*1 = 1*1 in matrix multiplication\n",
    "    # but you know numpy didn't do transpose in 1d array, so here is just a\n",
    "    # vector inner product to itselves\n",
    "    square_sum = inner.T @ inner\n",
    "    cost = square_sum / (2 * m)\n",
    "\n",
    "    return cost"
   ]
  },
  {
   "cell_type": "code",
   "execution_count": 7,
   "metadata": {},
   "outputs": [
    {
     "data": {
      "text/plain": [
       "303.9515255535976"
      ]
     },
     "execution_count": 7,
     "metadata": {},
     "output_type": "execute_result"
    }
   ],
   "source": [
    "theta = np.ones(X.shape[1])\n",
    "cost(theta, X, y)"
   ]
  },
  {
   "cell_type": "markdown",
   "metadata": {},
   "source": [
    "# 梯度\n",
    "<img style=\"float: left;\" src=\"linear_gradient.png\">"
   ]
  },
  {
   "cell_type": "code",
   "execution_count": 8,
   "metadata": {},
   "outputs": [],
   "source": [
    "def gradient(theta, X, y):\n",
    "    m = X.shape[0]\n",
    "    \n",
    "    #J(θ)求导得 X *（h-y) 其中h=X @ theta\n",
    "    inner = X.T @ (X @ theta - y)  # (m,n).T @ (m, 1) -> (n, 1)\n",
    "\n",
    "    return inner / m"
   ]
  },
  {
   "cell_type": "code",
   "execution_count": 9,
   "metadata": {},
   "outputs": [
    {
     "data": {
      "text/plain": [
       "array([-15.30301567, 598.16741084])"
      ]
     },
     "execution_count": 9,
     "metadata": {},
     "output_type": "execute_result"
    }
   ],
   "source": [
    "gradient(theta, X, y)"
   ]
  },
  {
   "cell_type": "markdown",
   "metadata": {},
   "source": [
    "# 正则化梯度\n",
    "<img style=\"float: left;\" src=\"linear_reg_gradient.png\">"
   ]
  },
  {
   "cell_type": "code",
   "execution_count": 10,
   "metadata": {},
   "outputs": [],
   "source": [
    "def regularized_gradient(theta, X, y, l=1):\n",
    "    m = X.shape[0]\n",
    "\n",
    "    regularized_term = theta.copy()  # same shape as theta\n",
    "    regularized_term[0] = 0  # don't regularize intercept theta\n",
    "\n",
    "    regularized_term = (l / m) * regularized_term\n",
    "\n",
    "    return gradient(theta, X, y) + regularized_term"
   ]
  },
  {
   "cell_type": "code",
   "execution_count": 11,
   "metadata": {},
   "outputs": [
    {
     "data": {
      "text/plain": [
       "array([-15.30301567, 598.25074417])"
      ]
     },
     "execution_count": 11,
     "metadata": {},
     "output_type": "execute_result"
    }
   ],
   "source": [
    "regularized_gradient(theta, X, y)"
   ]
  },
  {
   "cell_type": "markdown",
   "metadata": {},
   "source": [
    "# 拟合数据\n",
    "正则化项 λ=0"
   ]
  },
  {
   "cell_type": "code",
   "execution_count": 12,
   "metadata": {},
   "outputs": [],
   "source": [
    "def linear_regression_np(X, y, l=1):\n",
    "    theta = np.ones(X.shape[1])\n",
    "\n",
    "    res  = opt.minimize(fun=regularized_cost,\n",
    "                        x0=theta,\n",
    "                        args=(X, y, l),\n",
    "                        method='TNC',\n",
    "                        jac=regularized_gradient,\n",
    "                        options={'disp': True})\n",
    "    return res"
   ]
  },
  {
   "cell_type": "code",
   "execution_count": 13,
   "metadata": {},
   "outputs": [],
   "source": [
    "def regularized_cost(theta, X, y, l=1):\n",
    "    m = X.shape[0]\n",
    "\n",
    "    regularized_term = (l / (2*m)) * np.power(theta[1:], 2).sum()\n",
    "\n",
    "    return cost(theta, X, y) + regularized_term"
   ]
  },
  {
   "cell_type": "code",
   "execution_count": 14,
   "metadata": {},
   "outputs": [
    {
     "data": {
      "text/plain": [
       "array([13.08790348,  0.36777923])"
      ]
     },
     "execution_count": 14,
     "metadata": {},
     "output_type": "execute_result"
    }
   ],
   "source": [
    "theta = np.ones(X.shape[0])\n",
    "\n",
    "final_theta = linear_regression_np(X, y, l=0).get('x')\n",
    "final_theta"
   ]
  },
  {
   "cell_type": "code",
   "execution_count": 15,
   "metadata": {},
   "outputs": [
    {
     "data": {
      "text/plain": [
       "<function matplotlib.pyplot.show(close=None, block=None)>"
      ]
     },
     "execution_count": 15,
     "metadata": {},
     "output_type": "execute_result"
    },
    {
     "data": {
      "image/png": "[encoded data removed]",
      "text/plain": [
       "<Figure size 432x288 with 1 Axes>"
      ]
     },
     "metadata": {
      "needs_background": "light"
     },
     "output_type": "display_data"
    }
   ],
   "source": [
    "b = final_theta[0] #intercept\n",
    "m = final_theta[1] #slope\n",
    "\n",
    "plt.scatter(X[:,1], y, label=\"Training data\")\n",
    "plt.plot(X[:, 1], X[:, 1]*m +b, label=\"Prediction\")\n",
    "plt.legend(loc=2)\n",
    "plt.show"
   ]
  },
  {
   "cell_type": "code",
   "execution_count": 16,
   "metadata": {},
   "outputs": [],
   "source": [
    "training_cost, cv_cost = [], []"
   ]
  },
  {
   "cell_type": "markdown",
   "metadata": {},
   "source": [
    "使用训练集的子集来拟合模型\n",
    "\n",
    "在计算训练代价和交叉验证代价时，没有使用正则化\n",
    "\n",
    "要用相同的训练集自己来计算训练代价\n",
    "\n",
    "此处证明了训练集数据越多，验证集与训练集的拟合程度越接近"
   ]
  },
  {
   "cell_type": "code",
   "execution_count": 17,
   "metadata": {},
   "outputs": [
    {
     "name": "stdout",
     "output_type": "stream",
     "text": [
      "i=1\n",
      "tc=8.631534185484672e-18,cv=169.87070840820138\n",
      "i=2\n",
      "tc=1.1982973737990733e-17,cv=110.30036579345536\n",
      "i=3\n",
      "tc=3.286595045501271,cv=45.01023129175528\n",
      "i=4\n",
      "tc=2.8426776893997996,cv=48.368911427598995\n",
      "i=5\n",
      "tc=13.154048809114986,cv=35.865163780539554\n",
      "i=6\n",
      "tc=19.443962512495503,cv=33.82996187443447\n",
      "i=7\n",
      "tc=20.098521655088923,cv=31.970985697553704\n",
      "i=8\n",
      "tc=18.17285869520003,cv=30.862446276219675\n",
      "i=9\n",
      "tc=22.609405424954723,cv=31.13599798073065\n",
      "i=10\n",
      "tc=23.261461592611823,cv=28.936207557816495\n",
      "i=11\n",
      "tc=24.31724958804432,cv=29.55143239179086\n",
      "i=12\n",
      "tc=22.373906495108912,cv=29.433818153684726\n"
     ]
    }
   ],
   "source": [
    "m = X.shape[0]\n",
    "for i in range(1, m+1):\n",
    "    print('i={}'.format(i))\n",
    "    res = linear_regression_np(X[:i, :], y[:i], l=0)\n",
    "\n",
    "    tc = regularized_cost(res.x, X[:i,:], y[:i], l=0)\n",
    "    cv = regularized_cost(res.x, Xval, yval, l=0)\n",
    "    print('tc={},cv={}'.format(tc,cv))\n",
    "    training_cost.append(tc)\n",
    "    cv_cost.append(cv)"
   ]
  },
  {
   "cell_type": "code",
   "execution_count": 18,
   "metadata": {},
   "outputs": [
    {
     "data": {
      "text/plain": [
       "<function matplotlib.pyplot.show(close=None, block=None)>"
      ]
     },
     "execution_count": 18,
     "metadata": {},
     "output_type": "execute_result"
    },
    {
     "data": {
      "image/png": "[encoded data removed]",
      "text/plain": [
       "<Figure size 432x288 with 1 Axes>"
      ]
     },
     "metadata": {
      "needs_background": "light"
     },
     "output_type": "display_data"
    }
   ],
   "source": [
    "plt.plot(np.arange(1, m+1), training_cost, label='training cost')\n",
    "plt.plot(np.arange(1, m+1), cv_cost, label='cv cost')\n",
    "plt.legend(loc=1)\n",
    "plt.show"
   ]
  },
  {
   "cell_type": "markdown",
   "metadata": {},
   "source": [
    "模型拟合不太好，欠拟合了"
   ]
  },
  {
   "cell_type": "markdown",
   "metadata": {},
   "source": [
    "# 创建多项式特征\n",
    "1. 扩展特征到 8阶,或者你需要的阶数\n",
    "2. 使用 **归一化** 来合并 $x^n$ \n",
    "3. don't forget intercept term"
   ]
  },
  {
   "cell_type": "code",
   "execution_count": 19,
   "metadata": {},
   "outputs": [],
   "source": [
    "def normalize_feature(df):\n",
    "    \"\"\"applies function along input axis(default 0) of DataFram.\"\"\"\n",
    "    return df.apply(lambda column: (column - column.mean()) / column.std())\n",
    "\n",
    "    "
   ]
  },
  {
   "cell_type": "code",
   "execution_count": 20,
   "metadata": {},
   "outputs": [],
   "source": [
    "def prepare_poly_data(*args, power):\n",
    "    \"\"\"\n",
    "    args:keep feeding in X, Xval, or Xtest\n",
    "       will return in the same  order\n",
    "    \"\"\"\n",
    "    def prepare(x):\n",
    "        #expand feature\n",
    "        df = poly_features(x, power= power)\n",
    "\n",
    "        #normalization\n",
    "        ndarr = normalize_feature(df).values #原来是as_matrix() 表格转化为矩阵\n",
    "\n",
    "        #add intercept term\n",
    "        return np.insert(ndarr, 0, np.ones(ndarr.shape[0]), axis=1)\n",
    "\n",
    "    return [prepare(x) for x in args]"
   ]
  },
  {
   "cell_type": "code",
   "execution_count": 21,
   "metadata": {},
   "outputs": [],
   "source": [
    "def poly_features(x, power, as_ndarray=False):\n",
    "    data = {'f{}'.format(i): np.power(x, i) for i in range(1, power + 1)}\n",
    "    df = pd.DataFrame(data)\n",
    "\n",
    "    return df.values if as_ndarray else df  #返回格式为数组或者表格"
   ]
  },
  {
   "cell_type": "code",
   "execution_count": 22,
   "metadata": {},
   "outputs": [],
   "source": [
    "X, y, Xval, yval, Xtest, ytest = load_data()"
   ]
  },
  {
   "cell_type": "code",
   "execution_count": 23,
   "metadata": {},
   "outputs": [
    {
     "data": {
      "text/html": [
       "<div>\n",
       "<style scoped>\n",
       "    .dataframe tbody tr th:only-of-type {\n",
       "        vertical-align: middle;\n",
       "    }\n",
       "\n",
       "    .dataframe tbody tr th {\n",
       "        vertical-align: top;\n",
       "    }\n",
       "\n",
       "    .dataframe thead th {\n",
       "        text-align: right;\n",
       "    }\n",
       "</style>\n",
       "<table border=\"1\" class=\"dataframe\">\n",
       "  <thead>\n",
       "    <tr style=\"text-align: right;\">\n",
       "      <th></th>\n",
       "      <th>f1</th>\n",
       "      <th>f2</th>\n",
       "      <th>f3</th>\n",
       "    </tr>\n",
       "  </thead>\n",
       "  <tbody>\n",
       "    <tr>\n",
       "      <th>0</th>\n",
       "      <td>-15.936758</td>\n",
       "      <td>253.980260</td>\n",
       "      <td>-4047.621971</td>\n",
       "    </tr>\n",
       "    <tr>\n",
       "      <th>1</th>\n",
       "      <td>-29.152979</td>\n",
       "      <td>849.896197</td>\n",
       "      <td>-24777.006175</td>\n",
       "    </tr>\n",
       "    <tr>\n",
       "      <th>2</th>\n",
       "      <td>36.189549</td>\n",
       "      <td>1309.683430</td>\n",
       "      <td>47396.852168</td>\n",
       "    </tr>\n",
       "    <tr>\n",
       "      <th>3</th>\n",
       "      <td>37.492187</td>\n",
       "      <td>1405.664111</td>\n",
       "      <td>52701.422173</td>\n",
       "    </tr>\n",
       "    <tr>\n",
       "      <th>4</th>\n",
       "      <td>-48.058829</td>\n",
       "      <td>2309.651088</td>\n",
       "      <td>-110999.127750</td>\n",
       "    </tr>\n",
       "    <tr>\n",
       "      <th>5</th>\n",
       "      <td>-8.941458</td>\n",
       "      <td>79.949670</td>\n",
       "      <td>-714.866612</td>\n",
       "    </tr>\n",
       "    <tr>\n",
       "      <th>6</th>\n",
       "      <td>15.307793</td>\n",
       "      <td>234.328523</td>\n",
       "      <td>3587.052500</td>\n",
       "    </tr>\n",
       "    <tr>\n",
       "      <th>7</th>\n",
       "      <td>-34.706266</td>\n",
       "      <td>1204.524887</td>\n",
       "      <td>-41804.560890</td>\n",
       "    </tr>\n",
       "    <tr>\n",
       "      <th>8</th>\n",
       "      <td>1.389154</td>\n",
       "      <td>1.929750</td>\n",
       "      <td>2.680720</td>\n",
       "    </tr>\n",
       "    <tr>\n",
       "      <th>9</th>\n",
       "      <td>-44.383760</td>\n",
       "      <td>1969.918139</td>\n",
       "      <td>-87432.373590</td>\n",
       "    </tr>\n",
       "    <tr>\n",
       "      <th>10</th>\n",
       "      <td>7.013502</td>\n",
       "      <td>49.189211</td>\n",
       "      <td>344.988637</td>\n",
       "    </tr>\n",
       "    <tr>\n",
       "      <th>11</th>\n",
       "      <td>22.762749</td>\n",
       "      <td>518.142738</td>\n",
       "      <td>11794.353058</td>\n",
       "    </tr>\n",
       "  </tbody>\n",
       "</table>\n",
       "</div>"
      ],
      "text/plain": [
       "           f1           f2             f3\n",
       "0  -15.936758   253.980260   -4047.621971\n",
       "1  -29.152979   849.896197  -24777.006175\n",
       "2   36.189549  1309.683430   47396.852168\n",
       "3   37.492187  1405.664111   52701.422173\n",
       "4  -48.058829  2309.651088 -110999.127750\n",
       "5   -8.941458    79.949670    -714.866612\n",
       "6   15.307793   234.328523    3587.052500\n",
       "7  -34.706266  1204.524887  -41804.560890\n",
       "8    1.389154     1.929750       2.680720\n",
       "9  -44.383760  1969.918139  -87432.373590\n",
       "10   7.013502    49.189211     344.988637\n",
       "11  22.762749   518.142738   11794.353058"
      ]
     },
     "execution_count": 23,
     "metadata": {},
     "output_type": "execute_result"
    }
   ],
   "source": [
    "poly_features(X, power=3)"
   ]
  },
  {
   "cell_type": "markdown",
   "metadata": {},
   "source": [
    "# 准备多项式回归数据\n"
   ]
  },
  {
   "cell_type": "code",
   "execution_count": 24,
   "metadata": {},
   "outputs": [
    {
     "data": {
      "text/html": [
       "<div>\n",
       "<style scoped>\n",
       "    .dataframe tbody tr th:only-of-type {\n",
       "        vertical-align: middle;\n",
       "    }\n",
       "\n",
       "    .dataframe tbody tr th {\n",
       "        vertical-align: top;\n",
       "    }\n",
       "\n",
       "    .dataframe thead th {\n",
       "        text-align: right;\n",
       "    }\n",
       "</style>\n",
       "<table border=\"1\" class=\"dataframe\">\n",
       "  <thead>\n",
       "    <tr style=\"text-align: right;\">\n",
       "      <th></th>\n",
       "      <th>0</th>\n",
       "      <th>1</th>\n",
       "      <th>2</th>\n",
       "      <th>3</th>\n",
       "      <th>4</th>\n",
       "      <th>5</th>\n",
       "      <th>6</th>\n",
       "      <th>7</th>\n",
       "      <th>8</th>\n",
       "    </tr>\n",
       "  </thead>\n",
       "  <tbody>\n",
       "    <tr>\n",
       "      <th>0</th>\n",
       "      <td>1.0</td>\n",
       "      <td>-0.362141</td>\n",
       "      <td>-0.755087</td>\n",
       "      <td>0.182226</td>\n",
       "      <td>-0.706190</td>\n",
       "      <td>0.306618</td>\n",
       "      <td>-0.590878</td>\n",
       "      <td>0.344516</td>\n",
       "      <td>-0.508481</td>\n",
       "    </tr>\n",
       "    <tr>\n",
       "      <th>1</th>\n",
       "      <td>1.0</td>\n",
       "      <td>-0.803205</td>\n",
       "      <td>0.001258</td>\n",
       "      <td>-0.247937</td>\n",
       "      <td>-0.327023</td>\n",
       "      <td>0.093396</td>\n",
       "      <td>-0.435818</td>\n",
       "      <td>0.255416</td>\n",
       "      <td>-0.448912</td>\n",
       "    </tr>\n",
       "    <tr>\n",
       "      <th>2</th>\n",
       "      <td>1.0</td>\n",
       "      <td>1.377467</td>\n",
       "      <td>0.584827</td>\n",
       "      <td>1.249769</td>\n",
       "      <td>0.245312</td>\n",
       "      <td>0.978360</td>\n",
       "      <td>-0.012156</td>\n",
       "      <td>0.756568</td>\n",
       "      <td>-0.170352</td>\n",
       "    </tr>\n",
       "    <tr>\n",
       "      <th>3</th>\n",
       "      <td>1.0</td>\n",
       "      <td>1.420940</td>\n",
       "      <td>0.706647</td>\n",
       "      <td>1.359846</td>\n",
       "      <td>0.395534</td>\n",
       "      <td>1.106162</td>\n",
       "      <td>0.125637</td>\n",
       "      <td>0.871929</td>\n",
       "      <td>-0.059638</td>\n",
       "    </tr>\n",
       "    <tr>\n",
       "      <th>4</th>\n",
       "      <td>1.0</td>\n",
       "      <td>-1.434149</td>\n",
       "      <td>1.854000</td>\n",
       "      <td>-2.037163</td>\n",
       "      <td>2.331431</td>\n",
       "      <td>-2.411536</td>\n",
       "      <td>2.602212</td>\n",
       "      <td>-2.645675</td>\n",
       "      <td>2.766085</td>\n",
       "    </tr>\n",
       "    <tr>\n",
       "      <th>5</th>\n",
       "      <td>1.0</td>\n",
       "      <td>-0.128687</td>\n",
       "      <td>-0.975969</td>\n",
       "      <td>0.251385</td>\n",
       "      <td>-0.739687</td>\n",
       "      <td>0.316953</td>\n",
       "      <td>-0.594997</td>\n",
       "      <td>0.345812</td>\n",
       "      <td>-0.508955</td>\n",
       "    </tr>\n",
       "    <tr>\n",
       "      <th>6</th>\n",
       "      <td>1.0</td>\n",
       "      <td>0.680582</td>\n",
       "      <td>-0.780029</td>\n",
       "      <td>0.340656</td>\n",
       "      <td>-0.711721</td>\n",
       "      <td>0.326509</td>\n",
       "      <td>-0.591790</td>\n",
       "      <td>0.346830</td>\n",
       "      <td>-0.508613</td>\n",
       "    </tr>\n",
       "    <tr>\n",
       "      <th>7</th>\n",
       "      <td>1.0</td>\n",
       "      <td>-0.988534</td>\n",
       "      <td>0.451358</td>\n",
       "      <td>-0.601282</td>\n",
       "      <td>0.092917</td>\n",
       "      <td>-0.218473</td>\n",
       "      <td>-0.141608</td>\n",
       "      <td>0.039403</td>\n",
       "      <td>-0.266693</td>\n",
       "    </tr>\n",
       "    <tr>\n",
       "      <th>8</th>\n",
       "      <td>1.0</td>\n",
       "      <td>0.216076</td>\n",
       "      <td>-1.074993</td>\n",
       "      <td>0.266275</td>\n",
       "      <td>-0.743369</td>\n",
       "      <td>0.317561</td>\n",
       "      <td>-0.595129</td>\n",
       "      <td>0.345835</td>\n",
       "      <td>-0.508960</td>\n",
       "    </tr>\n",
       "    <tr>\n",
       "      <th>9</th>\n",
       "      <td>1.0</td>\n",
       "      <td>-1.311501</td>\n",
       "      <td>1.422806</td>\n",
       "      <td>-1.548121</td>\n",
       "      <td>1.493396</td>\n",
       "      <td>-1.515908</td>\n",
       "      <td>1.388655</td>\n",
       "      <td>-1.368307</td>\n",
       "      <td>1.224144</td>\n",
       "    </tr>\n",
       "    <tr>\n",
       "      <th>10</th>\n",
       "      <td>1.0</td>\n",
       "      <td>0.403777</td>\n",
       "      <td>-1.015010</td>\n",
       "      <td>0.273379</td>\n",
       "      <td>-0.741977</td>\n",
       "      <td>0.317742</td>\n",
       "      <td>-0.595098</td>\n",
       "      <td>0.345839</td>\n",
       "      <td>-0.508959</td>\n",
       "    </tr>\n",
       "    <tr>\n",
       "      <th>11</th>\n",
       "      <td>1.0</td>\n",
       "      <td>0.929375</td>\n",
       "      <td>-0.419808</td>\n",
       "      <td>0.510968</td>\n",
       "      <td>-0.588624</td>\n",
       "      <td>0.382616</td>\n",
       "      <td>-0.559030</td>\n",
       "      <td>0.361832</td>\n",
       "      <td>-0.500665</td>\n",
       "    </tr>\n",
       "  </tbody>\n",
       "</table>\n",
       "</div>"
      ],
      "text/plain": [
       "      0         1         2         3         4         5         6         7  \\\n",
       "0   1.0 -0.362141 -0.755087  0.182226 -0.706190  0.306618 -0.590878  0.344516   \n",
       "1   1.0 -0.803205  0.001258 -0.247937 -0.327023  0.093396 -0.435818  0.255416   \n",
       "2   1.0  1.377467  0.584827  1.249769  0.245312  0.978360 -0.012156  0.756568   \n",
       "3   1.0  1.420940  0.706647  1.359846  0.395534  1.106162  0.125637  0.871929   \n",
       "4   1.0 -1.434149  1.854000 -2.037163  2.331431 -2.411536  2.602212 -2.645675   \n",
       "5   1.0 -0.128687 -0.975969  0.251385 -0.739687  0.316953 -0.594997  0.345812   \n",
       "6   1.0  0.680582 -0.780029  0.340656 -0.711721  0.326509 -0.591790  0.346830   \n",
       "7   1.0 -0.988534  0.451358 -0.601282  0.092917 -0.218473 -0.141608  0.039403   \n",
       "8   1.0  0.216076 -1.074993  0.266275 -0.743369  0.317561 -0.595129  0.345835   \n",
       "9   1.0 -1.311501  1.422806 -1.548121  1.493396 -1.515908  1.388655 -1.368307   \n",
       "10  1.0  0.403777 -1.015010  0.273379 -0.741977  0.317742 -0.595098  0.345839   \n",
       "11  1.0  0.929375 -0.419808  0.510968 -0.588624  0.382616 -0.559030  0.361832   \n",
       "\n",
       "           8  \n",
       "0  -0.508481  \n",
       "1  -0.448912  \n",
       "2  -0.170352  \n",
       "3  -0.059638  \n",
       "4   2.766085  \n",
       "5  -0.508955  \n",
       "6  -0.508613  \n",
       "7  -0.266693  \n",
       "8  -0.508960  \n",
       "9   1.224144  \n",
       "10 -0.508959  \n",
       "11 -0.500665  "
      ]
     },
     "execution_count": 24,
     "metadata": {},
     "output_type": "execute_result"
    }
   ],
   "source": [
    "X_poly, Xval_poly, Xtest_poly = prepare_poly_data(X, Xval, Xtest, power=8)\n",
    "X_polydf=pd.DataFrame(X_poly)\n",
    "X_polydf\n",
    "#X_poly[:3, :]"
   ]
  },
  {
   "cell_type": "markdown",
   "metadata": {},
   "source": [
    "# 画出学习曲线\n",
    "\n",
    "首先，不适用正则化，所以λ=0"
   ]
  },
  {
   "cell_type": "code",
   "execution_count": 25,
   "metadata": {},
   "outputs": [],
   "source": [
    "def plot_learning_curve(X, y, Xval, yval, l=0):\n",
    "    training_cost, cv_cost = [], []\n",
    "    m = X.shape[0]\n",
    "\n",
    "    for i in range(1, m+1):\n",
    "        #使用优化函数来获得每轮的最优θ值\n",
    "        res = linear_regression_np(X[:i, :], y[:i], l=l)\n",
    "        \n",
    "        #这里计算的损失是未正则化的损失（因为前面正则化模型欠拟合，所以减小λ来解决高偏差/欠拟合的问题），正则化只用于优化θ\n",
    "        tc = cost(res.x, X[:i, :], y[:i])\n",
    "        cv = cost(res.x, Xval, yval)\n",
    "\n",
    "        training_cost.append(tc)\n",
    "        cv_cost.append(cv)\n",
    "\n",
    "    plt.plot(np.arange(1, m+1), training_cost, label='training cost')\n",
    "    plt.plot(np.arange(1, m+1), cv_cost, label='cv cost')\n",
    "    plt.legend(loc=1)"
   ]
  },
  {
   "cell_type": "code",
   "execution_count": 26,
   "metadata": {},
   "outputs": [
    {
     "data": {
      "image/png": "[encoded data removed]",
      "text/plain": [
       "<Figure size 432x288 with 1 Axes>"
      ]
     },
     "metadata": {
      "needs_background": "light"
     },
     "output_type": "display_data"
    }
   ],
   "source": [
    "plot_learning_curve(X_poly, y, Xval_poly, yval, l=0)\n",
    "plt.show()"
   ]
  },
  {
   "cell_type": "markdown",
   "metadata": {},
   "source": [
    "训练代价过低，过拟合了"
   ]
  },
  {
   "cell_type": "markdown",
   "metadata": {},
   "source": [
    "# try $\\lambda=1$"
   ]
  },
  {
   "cell_type": "code",
   "execution_count": 27,
   "metadata": {},
   "outputs": [
    {
     "data": {
      "image/png": "[encoded data removed]",
      "text/plain": [
       "<Figure size 432x288 with 1 Axes>"
      ]
     },
     "metadata": {
      "needs_background": "light"
     },
     "output_type": "display_data"
    }
   ],
   "source": [
    "plot_learning_curve(X_poly, y, Xval_poly, yval, l=1)\n",
    "plt.show()"
   ]
  },
  {
   "cell_type": "markdown",
   "metadata": {},
   "source": [
    "训练代价增加了些，不再是0了。减轻了过拟合。"
   ]
  },
  {
   "cell_type": "markdown",
   "metadata": {},
   "source": [
    "# try $\\lambda=100$"
   ]
  },
  {
   "cell_type": "code",
   "execution_count": 28,
   "metadata": {},
   "outputs": [
    {
     "data": {
      "image/png": "[encoded data removed]",
      "text/plain": [
       "<Figure size 432x288 with 1 Axes>"
      ]
     },
     "metadata": {
      "needs_background": "light"
     },
     "output_type": "display_data"
    }
   ],
   "source": [
    "plot_learning_curve(X_poly, y, Xval_poly, yval, l=100)\n",
    "plt.show()"
   ]
  },
  {
   "cell_type": "markdown",
   "metadata": {},
   "source": [
    "太多正则化了\n",
    "\n",
    "再次变成**欠拟合**状态"
   ]
  },
  {
   "cell_type": "markdown",
   "metadata": {},
   "source": [
    "# 找到最佳的 $\\lambda$"
   ]
  },
  {
   "cell_type": "code",
   "execution_count": 29,
   "metadata": {},
   "outputs": [],
   "source": [
    "l_candidate = [0, 0.01, 0.02, 0.04, 0.08, 0.16, 0.32, 0.64, 1.28 , 2.56, 5.12, 10]\n",
    "training_cost , cv_cost = [], []\n"
   ]
  },
  {
   "cell_type": "code",
   "execution_count": 30,
   "metadata": {},
   "outputs": [],
   "source": [
    "for l in l_candidate:\n",
    "    res = linear_regression_np(X_poly, y , l)\n",
    "\n",
    "    tc = cost(res.x, X_poly, y)\n",
    "    cv = cost(res.x, Xval_poly, yval)\n",
    "\n",
    "    training_cost.append(tc)\n",
    "    cv_cost.append(cv)\n",
    "    "
   ]
  },
  {
   "cell_type": "code",
   "execution_count": 31,
   "metadata": {},
   "outputs": [
    {
     "data": {
      "image/png": "[encoded data removed]",
      "text/plain": [
       "<Figure size 432x288 with 1 Axes>"
      ]
     },
     "metadata": {
      "needs_background": "light"
     },
     "output_type": "display_data"
    }
   ],
   "source": [
    "plt.plot(l_candidate, training_cost, label='training cost')\n",
    "plt.plot(l_candidate, cv_cost, label='cv cost')\n",
    "plt.legend(loc= 2)\n",
    "\n",
    "plt.xlabel('lambda')\n",
    "plt.ylabel('cost')\n",
    "\n",
    "plt.show()"
   ]
  },
  {
   "cell_type": "code",
   "execution_count": 32,
   "metadata": {},
   "outputs": [
    {
     "data": {
      "text/plain": [
       "1.28"
      ]
     },
     "execution_count": 32,
     "metadata": {},
     "output_type": "execute_result"
    }
   ],
   "source": [
    "#从交叉验证集中获得最优的参数模型\n",
    "l_candidate[np.argmin(cv_cost)]"
   ]
  },
  {
   "cell_type": "code",
   "execution_count": 36,
   "metadata": {},
   "outputs": [
    {
     "name": "stdout",
     "output_type": "stream",
     "text": [
      "test cost(l=0) = 10.4009230979044\n",
      "test cost(l=0.01) = 10.881075147337429\n",
      "test cost(l=0.02) = 10.387759259299374\n",
      "test cost(l=0.04) = 9.729269413032492\n",
      "test cost(l=0.08) = 8.917668274538663\n",
      "test cost(l=0.16) = 8.02523501871352\n",
      "test cost(l=0.32) = 7.283799849466189\n",
      "test cost(l=0.64) = 7.0866877522142815\n",
      "test cost(l=1.28) = 7.920138036881856\n",
      "test cost(l=2.56) = 10.614074307844067\n",
      "test cost(l=5.12) = 16.774418900643532\n",
      "test cost(l=10) = 27.7150803078716\n"
     ]
    }
   ],
   "source": [
    "#使用测试集数据来计算损失\n",
    "for l  in l_candidate:\n",
    "    theta = linear_regression_np(X_poly, y, l).x\n",
    "    print('test cost(l={}) = {}'.format(l, cost(theta, Xtest_poly, ytest)))"
   ]
  },
  {
   "cell_type": "markdown",
   "metadata": {},
   "source": [
    "调参后， λ = 0.64 是最优选择， 这个时候测试代价最小"
   ]
  }
 ],
 "metadata": {
  "interpreter": {
   "hash": "657a11fafbe6093823e7273cc9369b7116467512fa5d0d5f7846366745e87bef"
  },
  "kernelspec": {
   "display_name": "Python 3",
   "language": "python",
   "name": "python3"
  },
  "language_info": {
   "codemirror_mode": {
    "name": "ipython",
    "version": 3
   },
   "file_extension": ".py",
   "mimetype": "text/x-python",
   "name": "python",
   "nbconvert_exporter": "python",
   "pygments_lexer": "ipython3",
   "version": "3.9.7"
  }
 },
 "nbformat": 4,
 "nbformat_minor": 2
}

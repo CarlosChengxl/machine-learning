{
 "cells": [
  {
   "cell_type": "markdown",
   "metadata": {},
   "source": [
    "# 2-推荐算法"
   ]
  },
  {
   "cell_type": "code",
   "execution_count": 1,
   "metadata": {},
   "outputs": [],
   "source": [
    "import matplotlib.pyplot as plt\n",
    "import seaborn as sns\n",
    "sns.set(context=\"notebook\", style=\"white\",palette=sns.color_palette(\"RdBu\"))\n",
    "import numpy as np\n",
    "import pandas as pd\n",
    "import scipy.io as sio"
   ]
  },
  {
   "cell_type": "markdown",
   "metadata": {},
   "source": [
    "Notes:\n",
    "\n",
    "X - num_movies (1682)  x num_features (10) matrix of movie features  \n",
    "\n",
    "Theta - num_users (943)  x num_features (10) matrix of user features  \n",
    "\n",
    "Y - num_movies x num_users matrix of user ratings of movies  \n",
    "\n",
    "R - num_movies x num_users matrix, where R(i, j) = 1 if the i-th movie was rated by the j-th user  "
   ]
  },
  {
   "cell_type": "code",
   "execution_count": 2,
   "metadata": {},
   "outputs": [
    {
     "data": {
      "text/plain": [
       "{'__header__': b'MATLAB 5.0 MAT-file, Platform: GLNXA64, Created on: Thu Dec  1 17:19:26 2011',\n",
       " '__version__': '1.0',\n",
       " '__globals__': [],\n",
       " 'Y': array([[5, 4, 0, ..., 5, 0, 0],\n",
       "        [3, 0, 0, ..., 0, 0, 5],\n",
       "        [4, 0, 0, ..., 0, 0, 0],\n",
       "        ...,\n",
       "        [0, 0, 0, ..., 0, 0, 0],\n",
       "        [0, 0, 0, ..., 0, 0, 0],\n",
       "        [0, 0, 0, ..., 0, 0, 0]], dtype=uint8),\n",
       " 'R': array([[1, 1, 0, ..., 1, 0, 0],\n",
       "        [1, 0, 0, ..., 0, 0, 1],\n",
       "        [1, 0, 0, ..., 0, 0, 0],\n",
       "        ...,\n",
       "        [0, 0, 0, ..., 0, 0, 0],\n",
       "        [0, 0, 0, ..., 0, 0, 0],\n",
       "        [0, 0, 0, ..., 0, 0, 0]], dtype=uint8)}"
      ]
     },
     "execution_count": 2,
     "metadata": {},
     "output_type": "execute_result"
    }
   ],
   "source": [
    "data = sio.loadmat('./data/ex8_movies.mat')\n",
    "data"
   ]
  },
  {
   "cell_type": "code",
   "execution_count": 3,
   "metadata": {},
   "outputs": [
    {
     "data": {
      "text/plain": [
       "((1682, 943), (1682, 943))"
      ]
     },
     "execution_count": 3,
     "metadata": {},
     "output_type": "execute_result"
    }
   ],
   "source": [
    "Y = data['Y']\n",
    "R = data['R']\n",
    "Y.shape, R.shape"
   ]
  },
  {
   "cell_type": "code",
   "execution_count": 4,
   "metadata": {},
   "outputs": [],
   "source": [
    "def cost(params, Y, R, num_features):\n",
    "    Y = np.matrix(Y)       #(1682, 943)\n",
    "    R = np.matrix(R)       #(1682, 943)\n",
    "    num_movies = Y.shape[0]\n",
    "    num_users  = Y.shape[1]\n",
    "\n",
    "    #reshape the parameter array into parameter matrices\n",
    "    X = np.matrix(np.reshape(params[:num_movies * num_features], (num_movies, num_features))) #(1682, 10)\n",
    "    Theta = np.matrix(np.reshape(params[num_movies *num_features :],(num_users, num_features))) #(943, 10)\n",
    "\n",
    "    # initializations\n",
    "    J = 0\n",
    "\n",
    "    # compute the cost\n",
    "    error = np.multiply((X * Theta.T) - Y, R) #(1682, 943)\n",
    "    squared_error = np.power(error, 2)\n",
    "    J = np.sum(squared_error) / 2\n",
    "\n",
    "    return J"
   ]
  },
  {
   "cell_type": "code",
   "execution_count": 5,
   "metadata": {},
   "outputs": [
    {
     "data": {
      "text/plain": [
       "dict_keys(['__header__', '__version__', '__globals__', 'X', 'Theta', 'num_users', 'num_movies', 'num_features'])"
      ]
     },
     "execution_count": 5,
     "metadata": {},
     "output_type": "execute_result"
    }
   ],
   "source": [
    "params_data = sio.loadmat('data/ex8_movieParams.mat')\n",
    "params_data.keys()"
   ]
  },
  {
   "cell_type": "code",
   "execution_count": 6,
   "metadata": {},
   "outputs": [
    {
     "data": {
      "text/plain": [
       "((1682, 10), (943, 10))"
      ]
     },
     "execution_count": 6,
     "metadata": {},
     "output_type": "execute_result"
    }
   ],
   "source": [
    "X = params_data['X']\n",
    "Theta = params_data['Theta']\n",
    "X.shape, Theta.shape"
   ]
  },
  {
   "cell_type": "code",
   "execution_count": 7,
   "metadata": {},
   "outputs": [
    {
     "data": {
      "text/plain": [
       "22.224603725685675"
      ]
     },
     "execution_count": 7,
     "metadata": {},
     "output_type": "execute_result"
    }
   ],
   "source": [
    "users = 4\n",
    "movies = 5\n",
    "features = 3\n",
    "\n",
    "X_sub = X[:movies, :features]\n",
    "Theta_sub = Theta[:users, :features]\n",
    "Y_sub = Y[:movies, :users]\n",
    "R_sub = R[:movies, :users]\n",
    "\n",
    "params_sub = np.concatenate((np.ravel(X_sub), np.ravel(Theta_sub)))\n",
    "\n",
    "cost(params_sub, Y_sub, R_sub, features)"
   ]
  },
  {
   "cell_type": "code",
   "execution_count": 8,
   "metadata": {},
   "outputs": [],
   "source": [
    "def gradient(params, Y, R, num_features):\n",
    "    Y = np.matrix(Y)  # (1682, 943)\n",
    "    R = np.matrix(R)  # (1682, 943)\n",
    "    num_movies = Y.shape[0]\n",
    "    num_users = Y.shape[1]\n",
    "    \n",
    "    # reshape the parameter array into parameter matrices\n",
    "    X = np.matrix(np.reshape(params[:num_movies * num_features], (num_movies, num_features)))  # (1682, 10)\n",
    "    Theta = np.matrix(np.reshape(params[num_movies * num_features:], (num_users, num_features)))  # (943, 10)\n",
    "    \n",
    "    \n",
    "    # compute the cost\n",
    "    error = np.multiply((X * Theta.T) - Y, R)  # (1682, 943)\n",
    "\n",
    "    #caculate the gradients\n",
    "    X_grad = error * Theta\n",
    "    Theta_grad = error.T * X\n",
    "\n",
    "    grad = np.concatenate((np.ravel(X_grad),np.ravel(Theta_grad)))\n",
    "\n",
    "    return  grad"
   ]
  },
  {
   "cell_type": "code",
   "execution_count": 9,
   "metadata": {},
   "outputs": [
    {
     "data": {
      "text/plain": [
       "array([ -2.52899165,   7.57570308,  -1.89979026,  -0.56819597,\n",
       "         3.35265031,  -0.52339845,  -0.83240713,   4.91163297,\n",
       "        -0.76677878,  -0.38358278,   2.26333698,  -0.35334048,\n",
       "        -0.80378006,   4.74271842,  -0.74040871, -10.5680202 ,\n",
       "         4.62776019,  -7.16004443,  -3.05099006,   1.16441367,\n",
       "        -3.47410789,   0.        ,   0.        ,   0.        ,\n",
       "         0.        ,   0.        ,   0.        ])"
      ]
     },
     "execution_count": 9,
     "metadata": {},
     "output_type": "execute_result"
    }
   ],
   "source": [
    "grad = gradient(params_sub, Y_sub, R_sub, features)\n",
    "grad    "
   ]
  },
  {
   "cell_type": "code",
   "execution_count": 10,
   "metadata": {},
   "outputs": [],
   "source": [
    "def regularized_cost(params, Y, R, num_features, learning_rate):\n",
    "    J = cost(params, Y, R, num_features)\n",
    "    # add the cost regularization\n",
    "    J = J + np.power(params, 2).sum() * (learning_rate / 2)\n",
    "    \n",
    "    return J"
   ]
  },
  {
   "cell_type": "code",
   "execution_count": 11,
   "metadata": {},
   "outputs": [],
   "source": [
    "def regularized_gradient(params, Y, R, num_features, learning_rate):\n",
    "    grad = gradient(params, Y, R, num_features)\n",
    "\n",
    "    return grad + learning_rate * params"
   ]
  },
  {
   "cell_type": "code",
   "execution_count": 12,
   "metadata": {},
   "outputs": [
    {
     "data": {
      "text/plain": [
       "31.34405624427422"
      ]
     },
     "execution_count": 12,
     "metadata": {},
     "output_type": "execute_result"
    }
   ],
   "source": [
    "J = regularized_cost(params_sub, Y_sub, R_sub, features, 1.5)\n",
    "J"
   ]
  },
  {
   "cell_type": "code",
   "execution_count": 13,
   "metadata": {},
   "outputs": [],
   "source": [
    "params = np.concatenate((np.ravel(X),np.ravel(Theta)))"
   ]
  },
  {
   "cell_type": "code",
   "execution_count": 14,
   "metadata": {},
   "outputs": [
    {
     "data": {
      "text/plain": [
       "32520.682450229557"
      ]
     },
     "execution_count": 14,
     "metadata": {},
     "output_type": "execute_result"
    }
   ],
   "source": [
    "J = regularized_cost(params, Y, R, 10, 1)\n",
    "J"
   ]
  },
  {
   "cell_type": "code",
   "execution_count": 15,
   "metadata": {},
   "outputs": [
    {
     "data": {
      "text/plain": [
       "array([ -0.95596339,   6.97535514,  -0.10861109,   0.60308088,\n",
       "         2.77421145,   0.25839822,   0.12985616,   4.0898522 ,\n",
       "        -0.89247334,   0.29684395,   1.06300933,   0.66738144,\n",
       "         0.60252677,   4.90185327,  -0.19747928, -10.13985478,\n",
       "         2.10136256,  -6.76563628,  -2.29347024,   0.48244098,\n",
       "        -2.99791422,  -0.64787484,  -0.71820673,   1.27006666,\n",
       "         1.09289758,  -0.40784086,   0.49026541])"
      ]
     },
     "execution_count": 15,
     "metadata": {},
     "output_type": "execute_result"
    }
   ],
   "source": [
    "grad = regularized_gradient(params_sub, Y_sub, R_sub, features, 1.5)\n",
    "grad"
   ]
  },
  {
   "cell_type": "code",
   "execution_count": 16,
   "metadata": {},
   "outputs": [],
   "source": [
    "movie_idx = {}\n",
    "f = open('data/movie_ids.txt',encoding='gbk')\n",
    "for line in f: \n",
    "    tokens = line.split(' ')\n",
    "    tokens[-1] = tokens[-1][:-1]\n",
    "    movie_idx[int(tokens[0]) - 1] = ' '.join(tokens[1:])\n"
   ]
  },
  {
   "cell_type": "code",
   "execution_count": 17,
   "metadata": {},
   "outputs": [
    {
     "data": {
      "text/plain": [
       "'Toy Story (1995)'"
      ]
     },
     "execution_count": 17,
     "metadata": {},
     "output_type": "execute_result"
    }
   ],
   "source": [
    "movie_idx[0]"
   ]
  },
  {
   "cell_type": "markdown",
   "metadata": {},
   "source": [
    "# 增加新用户评分"
   ]
  },
  {
   "cell_type": "code",
   "execution_count": 18,
   "metadata": {},
   "outputs": [],
   "source": [
    "ratings = np.zeros(1682)\n",
    "\n",
    "ratings[0] = 4\n",
    "ratings[6] = 3\n",
    "ratings[11] = 5\n",
    "ratings[53] = 4\n",
    "ratings[63] = 5\n",
    "ratings[65] = 3\n",
    "ratings[68] = 5\n",
    "ratings[97] = 2\n",
    "ratings[182] = 4\n",
    "ratings[225] = 5\n",
    "ratings[354] = 5\n"
   ]
  },
  {
   "cell_type": "code",
   "execution_count": 19,
   "metadata": {},
   "outputs": [],
   "source": [
    "Y, R = data.get('Y'), data.get('R')"
   ]
  },
  {
   "cell_type": "code",
   "execution_count": 20,
   "metadata": {},
   "outputs": [
    {
     "data": {
      "text/plain": [
       "((1682, 944), (1682, 944))"
      ]
     },
     "execution_count": 20,
     "metadata": {},
     "output_type": "execute_result"
    }
   ],
   "source": [
    "Y = np.c_[ratings,  Y ]         #按列添加 column\n",
    "R = np.c_[ratings!=0, R]\n",
    "\n",
    "Y.shape, R.shape"
   ]
  },
  {
   "cell_type": "code",
   "execution_count": 21,
   "metadata": {},
   "outputs": [
    {
     "data": {
      "text/plain": [
       "((1682, 10), (944, 10), (26260,), numpy.ndarray, numpy.ndarray, numpy.ndarray)"
      ]
     },
     "execution_count": 21,
     "metadata": {},
     "output_type": "execute_result"
    }
   ],
   "source": [
    "n_movie, n_user = Y.shape\n",
    "n_features = 10\n",
    "learning_rate = 10\n",
    "\n",
    "#randn 标准正太分布随机\n",
    "X = np.random.randn(n_movie, n_features)\n",
    "Theta = np.random.randn(n_user, n_features)\n",
    "params = np.r_[np.ravel(X), np.ravel(Theta)]\n",
    "\n",
    "X.shape, Theta.shape, params.shape, type(X), type(Theta),type(params)"
   ]
  },
  {
   "cell_type": "code",
   "execution_count": 22,
   "metadata": {},
   "outputs": [
    {
     "data": {
      "text/plain": [
       "5.462286541176089e-19"
      ]
     },
     "execution_count": 22,
     "metadata": {},
     "output_type": "execute_result"
    }
   ],
   "source": [
    "Ymean = np.zeros((n_movie, 1))\n",
    "Ynorm = np.zeros((n_movie, n_user))\n",
    "\n",
    "for i in range(n_movie):    \n",
    "    idx = np.where(R[i,:]==1)\n",
    "    Ymean[i] = Y[i, idx].mean()\n",
    "    Ynorm[i, idx] = Y[i,idx] - Ymean[i]\n",
    "\n",
    "Ynorm.mean()"
   ]
  },
  {
   "cell_type": "code",
   "execution_count": 23,
   "metadata": {},
   "outputs": [
    {
     "data": {
      "text/plain": [
       "     fun: 38964.46785993085\n",
       "     jac: array([ 4.06686362e-06,  1.98837351e-06, -1.48037759e-06, ...,\n",
       "        1.05995924e-06, -1.44051972e-06,  3.54945951e-07])\n",
       " message: 'Converged (|f_n-f_(n-1)| ~= 0)'\n",
       "    nfev: 577\n",
       "     nit: 37\n",
       "  status: 1\n",
       " success: True\n",
       "       x: array([-0.22289008,  0.79372413,  0.00525525, ..., -0.41602382,\n",
       "        0.20161449,  0.48608752])"
      ]
     },
     "execution_count": 23,
     "metadata": {},
     "output_type": "execute_result"
    }
   ],
   "source": [
    "from scipy.optimize import minimize\n",
    "\n",
    "fmin = minimize(fun=regularized_cost, x0=params, args=(Ynorm,R,n_features, learning_rate),\n",
    "                method='TNC', jac=regularized_gradient)\n",
    "fmin            "
   ]
  },
  {
   "cell_type": "code",
   "execution_count": 24,
   "metadata": {},
   "outputs": [
    {
     "data": {
      "text/plain": [
       "((1682, 10), (944, 10))"
      ]
     },
     "execution_count": 24,
     "metadata": {},
     "output_type": "execute_result"
    }
   ],
   "source": [
    "X = np.matrix(np.reshape(fmin.x[:n_movie * n_features], (n_movie, n_features)))\n",
    "Theta = np.matrix(np.reshape(fmin.x[n_movie * n_features:], (n_user, n_features)))\n",
    "\n",
    "X.shape, Theta.shape"
   ]
  },
  {
   "cell_type": "code",
   "execution_count": 25,
   "metadata": {},
   "outputs": [
    {
     "data": {
      "text/plain": [
       "(1682, 1)"
      ]
     },
     "execution_count": 25,
     "metadata": {},
     "output_type": "execute_result"
    }
   ],
   "source": [
    "predictions = X * Theta.T\n",
    "my_preds = predictions[:, 0] + Ymean\n",
    "my_preds.shape"
   ]
  },
  {
   "cell_type": "code",
   "execution_count": 26,
   "metadata": {},
   "outputs": [
    {
     "data": {
      "text/plain": [
       "(1682, 1)"
      ]
     },
     "execution_count": 26,
     "metadata": {},
     "output_type": "execute_result"
    }
   ],
   "source": [
    "idx = np.argsort(my_preds, axis=0)[::-1]  #降序排列\n",
    "idx.shape"
   ]
  },
  {
   "cell_type": "code",
   "execution_count": 27,
   "metadata": {},
   "outputs": [
    {
     "data": {
      "text/plain": [
       "matrix([[[5.00000022]],\n",
       "\n",
       "        [[5.00000003]],\n",
       "\n",
       "        [[5.        ]],\n",
       "\n",
       "        [[5.        ]],\n",
       "\n",
       "        [[5.        ]],\n",
       "\n",
       "        [[5.        ]],\n",
       "\n",
       "        [[5.        ]],\n",
       "\n",
       "        [[5.        ]],\n",
       "\n",
       "        [[5.        ]],\n",
       "\n",
       "        [[4.99999998]]])"
      ]
     },
     "execution_count": 27,
     "metadata": {},
     "output_type": "execute_result"
    }
   ],
   "source": [
    "my_preds[idx][:10]"
   ]
  },
  {
   "cell_type": "code",
   "execution_count": 28,
   "metadata": {},
   "outputs": [
    {
     "data": {
      "text/plain": [
       "array([1121,  813, 1598, ..., 1365, 1582, 1580], dtype=int64)"
      ]
     },
     "execution_count": 28,
     "metadata": {},
     "output_type": "execute_result"
    }
   ],
   "source": [
    "idx = np.ravel(idx)\n",
    "idx"
   ]
  },
  {
   "cell_type": "code",
   "execution_count": 29,
   "metadata": {},
   "outputs": [
    {
     "name": "stdout",
     "output_type": "stream",
     "text": [
      "TOP 10 movie predictions:\n",
      "Predicted rating of 5.000000215397042 for movie They Made Me a Criminal (1939).\n",
      "Predicted rating of 5.00000002512515 for movie Great Day in Harlem, A (1994).\n",
      "Predicted rating of 5.00000000026316 for movie Someone Else's America (1995).\n",
      "Predicted rating of 5.00000000015999 for movie Saint of Fort Washington, The (1993).\n",
      "Predicted rating of 4.999999999997084 for movie Marlene Dietrich: Shadow and Light (1996) .\n",
      "Predicted rating of 4.999999999963111 for movie Star Kid (1997).\n",
      "Predicted rating of 4.999999999934065 for movie Prefontaine (1997).\n",
      "Predicted rating of 4.999999999809731 for movie Santa with Muscles (1996).\n",
      "Predicted rating of 4.999999997416422 for movie Entertaining Angels: The Dorothy Day Story (1996).\n",
      "Predicted rating of 4.999999978137029 for movie Aiqing wansui (1994).\n"
     ]
    }
   ],
   "source": [
    "print(\"TOP 10 movie predictions:\")\n",
    "for m in idx[:10]:\n",
    "     print('Predicted rating of {0} for movie {1}.'.format(str(float(my_preds[m])), movie_idx[m]))"
   ]
  }
 ],
 "metadata": {
  "interpreter": {
   "hash": "1f00c3469eb44664c88da275660a90e0c004c27ab2f4a08594caa9fd5d36651a"
  },
  "kernelspec": {
   "display_name": "Python 3.9.7 ('base')",
   "language": "python",
   "name": "python3"
  },
  "language_info": {
   "codemirror_mode": {
    "name": "ipython",
    "version": 3
   },
   "file_extension": ".py",
   "mimetype": "text/x-python",
   "name": "python",
   "nbconvert_exporter": "python",
   "pygments_lexer": "ipython3",
   "version": "3.9.7"
  },
  "orig_nbformat": 4
 },
 "nbformat": 4,
 "nbformat_minor": 2
}
